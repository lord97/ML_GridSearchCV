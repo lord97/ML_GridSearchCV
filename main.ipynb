{
 "cells": [
  {
   "cell_type": "code",
   "execution_count": 1,
   "metadata": {},
   "outputs": [],
   "source": [
    "from sklearn.model_selection import train_test_split\n",
    "from sklearn.model_selection import GridSearchCV\n",
    "from sklearn.metrics import classification_report\n",
    "from sklearn.metrics import confusion_matrix\n",
    "from sklearn.metrics import accuracy_score\n",
    "from sklearn.metrics import precision_score\n",
    "from sklearn.metrics import recall_score\n",
    "from sklearn.preprocessing import StandardScaler\n",
    "from sklearn.svm import SVC\n",
    "from sklearn.tree import DecisionTreeClassifier\n",
    "from sklearn.neural_network import MLPClassifier\n",
    "from sklearn.naive_bayes import GaussianNB\n",
    "from sklearn.linear_model import LogisticRegression\n",
    "from sklearn.neighbors import KNeighborsClassifier\n",
    "from sklearn.ensemble import BaggingClassifier\n",
    "from sklearn.ensemble import RandomForestClassifier\n",
    "from sklearn.ensemble import AdaBoostClassifier\n",
    "from sklearn.ensemble import GradientBoostingClassifier\n",
    "from xgboost import XGBClassifier\n"
   ]
  },
  {
   "attachments": {},
   "cell_type": "markdown",
   "metadata": {},
   "source": [
    "List of parameters for various algorithms. You can optimize as desired"
   ]
  },
  {
   "cell_type": "code",
   "execution_count": 2,
   "metadata": {},
   "outputs": [],
   "source": [
    "tuned_parameters = [[{'kernel': ['rbf', 'linear'], 'gamma': [1e-3, 1e-4],'C': [1, 10, 80, 160]}],\n",
    "                    [{'max_depth' : [10,20,30,40], 'min_samples_split' : [2,10,20], 'min_samples_leaf': [1,5,10], 'max_features' : [\"sqrt\",\"log2\"]}],\n",
    "                    [{'activation' : ['logistic','tanh','relu'],'hidden_layer_sizes' : [(5,),(10,)], 'max_iter' : [80,160],'alpha' : [0.0001,0.0005]}],\n",
    "                    \n",
    "                    [{'penalty': ['l1','l2'], 'tol' : [1e-4,1e-5], 'max_iter' : [10,30,50], 'fit_intercept' : [True, False]}],\n",
    "                    [{'n_neighbors' : [5,10,20],'weights': ['uniform','distance'], 'algorithm' : ['ball_tree', 'kd_tree', 'brute'],'p' : [1,2,3]}],\n",
    "                    [{'n_estimators':[10,20,40],'max_samples':[0.5,1.0],'max_features':[0.5,1.0],'random_state':[None]}],\n",
    "                    [{'n_estimators':[10,20,40],'max_features':[0.5,1.0],'criterion' : ['gini','entropy'],'max_depth': [None,100,200]}],\n",
    "                    [{'n_estimators' : [30,50,80],'random_state' : [None], 'learning_rate' : [1.,0.8,0.5],'algorithm' : ['SAMME','SAMME.R']}],\n",
    "                    [{'loss': ['deviance', 'exponential'],'n_estimators' : [10,20,50],'max_features' : ['log2','sqrt'],'max_depth' : [3,10,50] }],\n",
    "                    [{'booster': ['gbtree', 'gblinear' ,'dart'], 'learning_rate' : [0.1,0.05,0.2], 'min_child_weight' : [1], 'max_delta_step' : [0]}]\n",
    "                    ]\n",
    "algorithms = [SVC(),DecisionTreeClassifier(),MLPClassifier(),LogisticRegression(),KNeighborsClassifier(),BaggingClassifier(),RandomForestClassifier(),AdaBoostClassifier(),GradientBoostingClassifier(),XGBClassifier()]\n",
    "algorithm_names = [\"SVC\",\"DecisionTreeClassifier\",\"MLPClassifier\",\"LogisticRegression\",\"KNeighborsClassifier\",\"BaggingClassifier\",\"RandomForestClassifier\",\"AdaBoostClassifier\",\"GradientBoostingClassifier\",\"XGBClassifier\"]\n"
   ]
  },
  {
   "attachments": {},
   "cell_type": "markdown",
   "metadata": {},
   "source": [
    "X_train and y_train are your training data. (You must use a encode if necessary )"
   ]
  },
  {
   "cell_type": "code",
   "execution_count": null,
   "metadata": {},
   "outputs": [],
   "source": [
    "model_names = []\n",
    "best_parametre = []\n",
    "score = []\n",
    "functionmodel = []\n",
    "for i in range(len(algorithms)):\n",
    "  print(algorithm_names[i])\n",
    "  model = algorithms[i]\n",
    "  clf = GridSearchCV(model, tuned_parameters[i], cv = 5, scoring='accuracy')\n",
    "  clf.fit(X_train, y_train)\n",
    "  model_names.append(algorithm_names[i])\n",
    "  best_parametre.append(clf.best_params_)\n",
    "  score.append(clf.best_score_ )\n",
    "  functionmodel.append(clf)\n",
    "\n",
    "\n",
    "\n",
    "new_data = pd.DataFrame({\"Algorithme\": model_names, \"best parametre\": best_parametre, \"score\" : score})\n",
    "dico = {\"Algorithme\": model_names, \"best parametre\": best_parametre, \"score\" : score, \"model\" : functionmodel}"
   ]
  }
 ],
 "metadata": {
  "kernelspec": {
   "display_name": "Python 3",
   "language": "python",
   "name": "python3"
  },
  "language_info": {
   "codemirror_mode": {
    "name": "ipython",
    "version": 3
   },
   "file_extension": ".py",
   "mimetype": "text/x-python",
   "name": "python",
   "nbconvert_exporter": "python",
   "pygments_lexer": "ipython3",
   "version": "3.10.2"
  },
  "orig_nbformat": 4
 },
 "nbformat": 4,
 "nbformat_minor": 2
}
